{
 "cells": [
  {
   "cell_type": "code",
   "execution_count": 62,
   "metadata": {},
   "outputs": [
    {
     "name": "stderr",
     "output_type": "stream",
     "text": [
      "Python(13569) MallocStackLogging: can't turn off malloc stack logging because it was not enabled.\n"
     ]
    },
    {
     "name": "stdout",
     "output_type": "stream",
     "text": [
      "Requirement already satisfied: requests in /Library/Frameworks/Python.framework/Versions/3.13/lib/python3.13/site-packages (2.32.3)\n",
      "Requirement already satisfied: charset-normalizer<4,>=2 in /Library/Frameworks/Python.framework/Versions/3.13/lib/python3.13/site-packages (from requests) (3.4.1)\n",
      "Requirement already satisfied: idna<4,>=2.5 in /Library/Frameworks/Python.framework/Versions/3.13/lib/python3.13/site-packages (from requests) (3.10)\n",
      "Requirement already satisfied: urllib3<3,>=1.21.1 in /Library/Frameworks/Python.framework/Versions/3.13/lib/python3.13/site-packages (from requests) (2.3.0)\n",
      "Requirement already satisfied: certifi>=2017.4.17 in /Library/Frameworks/Python.framework/Versions/3.13/lib/python3.13/site-packages (from requests) (2024.12.14)\n",
      "\n",
      "\u001b[1m[\u001b[0m\u001b[34;49mnotice\u001b[0m\u001b[1;39;49m]\u001b[0m\u001b[39;49m A new release of pip is available: \u001b[0m\u001b[31;49m24.3.1\u001b[0m\u001b[39;49m -> \u001b[0m\u001b[32;49m25.0\u001b[0m\n",
      "\u001b[1m[\u001b[0m\u001b[34;49mnotice\u001b[0m\u001b[1;39;49m]\u001b[0m\u001b[39;49m To update, run: \u001b[0m\u001b[32;49mpip3 install --upgrade pip\u001b[0m\n"
     ]
    }
   ],
   "source": [
    "!pip3 install requests"
   ]
  },
  {
   "cell_type": "markdown",
   "metadata": {},
   "source": [
    "\n",
    "### 1. Import required Libraries"
   ]
  },
  {
   "cell_type": "code",
   "execution_count": 63,
   "metadata": {},
   "outputs": [],
   "source": [
    "import requests\n",
    "import sqlite3\n",
    "from datetime import datetime\n",
    "from urllib.parse import urlparse, parse_qs\n"
   ]
  },
  {
   "cell_type": "markdown",
   "metadata": {},
   "source": [
    "### 2. All constants used in notebook"
   ]
  },
  {
   "cell_type": "code",
   "execution_count": 64,
   "metadata": {},
   "outputs": [],
   "source": [
    "base_url = \"https://de-demo-api.adtriba.app/\"\n",
    "endpoint = \"v1/api/data\" \n",
    "api_key = \"woope1Pei5zieg\"\n",
    "from_date = \"2021-08-01\" \n",
    "to_date = \"2021-09-30\"    \n",
    "db_file_name =\"fashion_brand_logs.db\""
   ]
  },
  {
   "cell_type": "markdown",
   "metadata": {},
   "source": [
    "\n",
    "### 3. Fetch Tracking Logs: Defines a function to fetch tracking logs from an API using the provided API details and query parameters. It handles the API response and prints the fetched logs.\n"
   ]
  },
  {
   "cell_type": "code",
   "execution_count": 65,
   "metadata": {},
   "outputs": [
    {
     "name": "stdout",
     "output_type": "stream",
     "text": [
      "Tracking Logs:\n",
      "[{'log_id': '000302cb-4aaf-4154-b6b2-912d5e42cfff', 'cookie_id': '65b5dfea-a8a0-4723-9fdb-08e43feba62b', 'referrer_domain': None, 'location': 'https://www.fashion-brand.com/', 'log_ts': '2021-08-20T11:24:09.698000', 'action': 'pageview'}, {'log_id': '000d32ba-f26b-486f-9ff8-f844866a4924', 'cookie_id': '44319efe-66a9-4c9d-8e2c-8fc0a45c77f3', 'referrer_domain': 'info.fashion-brand.com', 'location': 'https://www.fashion-brand.com/?hsLang=de', 'log_ts': '2021-09-29T09:47:45.797000', 'action': 'pageview'}, {'log_id': '0014735e-b457-4ac3-bc2d-5270e156efb1', 'cookie_id': '8517de02-01c0-462c-b11d-b4963d358b24', 'referrer_domain': 'www.google.com.hk', 'location': 'https://blog.fashion-brand.com/en/unified-marketing-measurement-why-umm-is-the-next-generation-of-marketing-attribution', 'log_ts': '2021-08-25T05:48:12.559000', 'action': 'pageview'}, {'log_id': '001729c6-4d7d-4f41-b184-e7d5123937b7', 'cookie_id': 'f9f2d6f0-9a0c-4cb8-8431-a5ca18e3e1fe', 'referrer_domain': 'm.youtube.com', 'location': 'https://www.fashion-brand.com/de?utm_term=&utm_campaign=DE_Remarketing+Display+Nov+2019&utm_source=adwords&utm_medium=ppc&hsa_acc=8061560483&hsa_cam=8140702782&hsa_grp=124518466552&hsa_ad=529526218787&hsa_src=d&hsa_tgt=&hsa_kw=&hsa_mt=&hsa_net=adwords&hsa', 'log_ts': '2021-08-16T22:52:54.985000', 'action': 'pageview'}, {'log_id': '002dc1ca-82c1-4afb-b657-0324eab6288e', 'cookie_id': 'f1236546-87ad-4f6d-b089-8ad3534c9d97', 'referrer_domain': None, 'location': 'https://www.fashion-brand.com/de?utm_term=&utm_campaign=DE_Remarketing+Display+Nov+2019&utm_source=adwords&utm_medium=ppc&hsa_acc=8061560483&hsa_cam=8140702782&hsa_grp=83797542229&hsa_ad=397602762408&hsa_src=d&hsa_tgt=aud-837931312042&hsa_kw=&hsa_mt=&hsa_', 'log_ts': '2021-08-08T12:51:28.230000', 'action': 'pageview'}, {'log_id': '0033caec-bff0-45db-86ff-1c04522e5ef5', 'cookie_id': '8a7e3790-9b14-4ac3-8776-236602f63799', 'referrer_domain': 'www.fashion-brand.com', 'location': 'https://www.fashion-brand.com/pr-und-news', 'log_ts': '2021-08-04T11:36:25.021000', 'action': 'pageview'}, {'log_id': '00347e0b-890c-4211-9b9e-8c466925bd18', 'cookie_id': '14bae105-46db-4f85-bc65-091e12ca9892', 'referrer_domain': 'www.fashion-brand.com', 'location': 'https://www.fashion-brand.com/ueber-uns', 'log_ts': '2021-08-16T13:00:21.583000', 'action': 'pageview'}, {'log_id': '0034dc9d-8207-4516-a011-4aa9193b5a3c', 'cookie_id': '04bf6f5e-a3aa-472b-97f7-706b69eb226a', 'referrer_domain': 'www.google.com', 'location': 'https://www.fashion-brand.com/', 'log_ts': '2021-09-21T04:59:58.321000', 'action': 'pageview'}, {'log_id': '0050112b-cc25-43cf-b392-a6e525d769bd', 'cookie_id': '4f59ae34-8741-4bc1-9e67-e65ab8b1f747', 'referrer_domain': None, 'location': 'https://www.fashion-brand.com/de?utm_term=&utm_campaign=DE_Remarketing+Display+Nov+2019&utm_source=adwords&utm_medium=ppc&hsa_acc=8061560483&hsa_cam=8140702782&hsa_grp=124518466552&hsa_ad=529526218787&hsa_src=d&hsa_tgt=&hsa_kw=&hsa_mt=&hsa_net=adwords&hsa', 'log_ts': '2021-08-01T09:39:34.461000', 'action': 'pageview'}, {'log_id': '0050f866-9c46-4252-b4ed-355a6da3387a', 'cookie_id': '3910de1b-3174-43d0-a3b6-8dfaa7f0ad79', 'referrer_domain': None, 'location': 'https://www.fashion-brand.com/', 'log_ts': '2021-08-03T07:50:53.023000', 'action': 'pageview'}]\n"
     ]
    }
   ],
   "source": [
    "# API details\n",
    "\n",
    "headers = {\n",
    "    \"x-api-key\": api_key\n",
    "}\n",
    "\n",
    "# Function to fetch tracking logs\n",
    "def fetch_tracking_logs(from_date=None, to_date=None, offset=0, limit=10000):\n",
    "    params = {\n",
    "        \"offset\": offset,\n",
    "        \"limit\": limit\n",
    "    }\n",
    "\n",
    "    if from_date:\n",
    "        params[\"from_date\"] = from_date\n",
    "    if to_date:\n",
    "        params[\"to_date\"] = to_date\n",
    "\n",
    "    \n",
    "    response = requests.get(f\"{base_url}{endpoint}\", headers=headers, params=params)\n",
    "\n",
    "    # Check for successful request\n",
    "    if response.status_code == 200:\n",
    "        return response.json()  \n",
    "    else:\n",
    "        print(f\"Error {response.status_code}: {response.text}\")\n",
    "        return None\n",
    "\n",
    "logs = fetch_tracking_logs(from_date=from_date, to_date=to_date, offset=0, limit=100000)\n",
    "\n",
    "if logs:\n",
    "    print(\"Tracking Logs:\")\n",
    "    print(logs[:10])\n",
    "else:\n",
    "    print(\"No logs fetched.\")\n"
   ]
  },
  {
   "cell_type": "markdown",
   "metadata": {},
   "source": [
    "\n",
    "### 4. Parse Query Parameters from Logs : Defines a function to parse query parameters from the fetched logs and prints the parsed logs."
   ]
  },
  {
   "cell_type": "code",
   "execution_count": 66,
   "metadata": {},
   "outputs": [
    {
     "name": "stdout",
     "output_type": "stream",
     "text": [
      "[('000302cb-4aaf-4154-b6b2-912d5e42cfff', '65b5dfea-a8a0-4723-9fdb-08e43feba62b', 'https://www.fashion-brand.com/', None, '2021-08-20T11:24:09.698000', 'pageview'), ('000d32ba-f26b-486f-9ff8-f844866a4924', '44319efe-66a9-4c9d-8e2c-8fc0a45c77f3', 'https://www.fashion-brand.com/?hsLang=de', 'info.fashion-brand.com', '2021-09-29T09:47:45.797000', 'pageview'), ('0014735e-b457-4ac3-bc2d-5270e156efb1', '8517de02-01c0-462c-b11d-b4963d358b24', 'https://blog.fashion-brand.com/en/unified-marketing-measurement-why-umm-is-the-next-generation-of-marketing-attribution', 'www.google.com.hk', '2021-08-25T05:48:12.559000', 'pageview'), ('001729c6-4d7d-4f41-b184-e7d5123937b7', 'f9f2d6f0-9a0c-4cb8-8431-a5ca18e3e1fe', 'https://www.fashion-brand.com/de?utm_term=&utm_campaign=DE_Remarketing+Display+Nov+2019&utm_source=adwords&utm_medium=ppc&hsa_acc=8061560483&hsa_cam=8140702782&hsa_grp=124518466552&hsa_ad=529526218787&hsa_src=d&hsa_tgt=&hsa_kw=&hsa_mt=&hsa_net=adwords&hsa', 'm.youtube.com', '2021-08-16T22:52:54.985000', 'pageview'), ('002dc1ca-82c1-4afb-b657-0324eab6288e', 'f1236546-87ad-4f6d-b089-8ad3534c9d97', 'https://www.fashion-brand.com/de?utm_term=&utm_campaign=DE_Remarketing+Display+Nov+2019&utm_source=adwords&utm_medium=ppc&hsa_acc=8061560483&hsa_cam=8140702782&hsa_grp=83797542229&hsa_ad=397602762408&hsa_src=d&hsa_tgt=aud-837931312042&hsa_kw=&hsa_mt=&hsa_', None, '2021-08-08T12:51:28.230000', 'pageview'), ('0033caec-bff0-45db-86ff-1c04522e5ef5', '8a7e3790-9b14-4ac3-8776-236602f63799', 'https://www.fashion-brand.com/pr-und-news', 'www.fashion-brand.com', '2021-08-04T11:36:25.021000', 'pageview'), ('00347e0b-890c-4211-9b9e-8c466925bd18', '14bae105-46db-4f85-bc65-091e12ca9892', 'https://www.fashion-brand.com/ueber-uns', 'www.fashion-brand.com', '2021-08-16T13:00:21.583000', 'pageview'), ('0034dc9d-8207-4516-a011-4aa9193b5a3c', '04bf6f5e-a3aa-472b-97f7-706b69eb226a', 'https://www.fashion-brand.com/', 'www.google.com', '2021-09-21T04:59:58.321000', 'pageview'), ('0050112b-cc25-43cf-b392-a6e525d769bd', '4f59ae34-8741-4bc1-9e67-e65ab8b1f747', 'https://www.fashion-brand.com/de?utm_term=&utm_campaign=DE_Remarketing+Display+Nov+2019&utm_source=adwords&utm_medium=ppc&hsa_acc=8061560483&hsa_cam=8140702782&hsa_grp=124518466552&hsa_ad=529526218787&hsa_src=d&hsa_tgt=&hsa_kw=&hsa_mt=&hsa_net=adwords&hsa', None, '2021-08-01T09:39:34.461000', 'pageview'), ('0050f866-9c46-4252-b4ed-355a6da3387a', '3910de1b-3174-43d0-a3b6-8dfaa7f0ad79', 'https://www.fashion-brand.com/', None, '2021-08-03T07:50:53.023000', 'pageview')]\n"
     ]
    }
   ],
   "source": [
    "def parse_logs(logs):\n",
    "    parsed_logs = []\n",
    "    for log in logs:\n",
    "        parsed_logs.append(\n",
    "            (\n",
    "                log.get(\"log_id\"),\n",
    "                log.get(\"cookie_id\"),\n",
    "                log.get(\"location\"),\n",
    "                log.get(\"referrer_domain\"),\n",
    "                str(log.get(\"log_ts\")),\n",
    "                log.get(\"action\"),\n",
    "            )\n",
    "        )\n",
    "    return parsed_logs\n",
    "\n",
    "parsed_logs = parse_logs(logs)\n",
    "#print(parsed_logs[:10])\n"
   ]
  },
  {
   "cell_type": "markdown",
   "metadata": {},
   "source": [
    "\n",
    "### 5. Store Logs in SQLite Database : Stores the parsed logs in an SQLite database by creating a table and inserting the data into it."
   ]
  },
  {
   "cell_type": "code",
   "execution_count": 67,
   "metadata": {},
   "outputs": [],
   "source": [
    "\n",
    "# Ensure the connection is closed properly to avoid database lock issues\n",
    "try:\n",
    "    conn = sqlite3.connect(db_file_name)\n",
    "    cursor = conn.cursor()\n",
    "\n",
    "    cursor.execute('''\n",
    "    CREATE TABLE IF NOT EXISTS pageviews (\n",
    "        log_id TEXT,\n",
    "        cookie_id TEXT,\n",
    "        location TEXT,\n",
    "        referrer_domain TEXT,\n",
    "        log_ts TEXT,\n",
    "        action TEXT\n",
    "    )\n",
    "    ''')\n",
    "    cursor.execute('DELETE FROM pageviews')\n",
    "    \n",
    "    cursor.executemany('''\n",
    "    INSERT INTO pageviews (log_id, cookie_id, location, referrer_domain, log_ts, action)\n",
    "    VALUES (?, ?, ?, ?, ?, ?)\n",
    "    ''', parsed_logs)\n",
    "\n",
    "   \n",
    "    conn.commit()\n",
    "\n",
    "    #cursor.execute('SELECT * FROM pageviews limit 10')\n",
    "    #rows = cursor.fetchall()\n",
    "\n",
    "    #for row in rows:\n",
    "        #print(row)\n",
    "finally:\n",
    "    conn.close()"
   ]
  },
  {
   "cell_type": "markdown",
   "metadata": {},
   "source": [
    "\n",
    "### 6. Extract Query Parameters and Apply Channel Mapping Rules : Defines a function to extract query parameters from the logs and apply channel mapping rules to categorize the logs into different channels such as \"Organic Search\", \"Social\", \"Email\", \"Paid Search\", \"Referral\", and \"Direct\"."
   ]
  },
  {
   "cell_type": "code",
   "execution_count": 68,
   "metadata": {},
   "outputs": [
    {
     "name": "stdout",
     "output_type": "stream",
     "text": [
      "[(None, None, None, None, 'Direct'), (None, None, None, None, 'Referral'), (None, None, None, None, 'Referral'), ('adwords', 'DE_Remarketing Display Nov 2019', 'ppc', None, 'Paid Search'), ('adwords', 'DE_Remarketing Display Nov 2019', 'ppc', None, 'Paid Search')]\n"
     ]
    }
   ],
   "source": [
    "def extract_query_params(logs):\n",
    "    extracted_data = []\n",
    "    for log in logs:\n",
    "        url = log['location']\n",
    "        referrer_domain = log['referrer_domain']\n",
    "        parsed_url = urlparse(url)\n",
    "        query_params = parse_qs(parsed_url.query)\n",
    "        \n",
    "        utm_source = query_params.get('utm_source', [None])[0]\n",
    "        utm_campaign = query_params.get('utm_campaign', [None])[0]\n",
    "        utm_medium = query_params.get('utm_medium', [None])[0]\n",
    "        gclid = query_params.get('gclid', [None])[0]\n",
    "        \n",
    "        channel = \"Unknown\"\n",
    "        \n",
    "        # Channel Mapping Rules\n",
    "        if utm_medium == 'organic':\n",
    "            channel = \"Organic Search\"\n",
    "        elif utm_medium and any(prefix in utm_medium.lower() for prefix in ['social', 'sm']):\n",
    "            channel = \"Social\"\n",
    "        elif utm_source and utm_source.lower() in ['facebook', 'instagram', 'ig', 'fb', 'linkedin']:\n",
    "            channel = \"Social\"\n",
    "        elif utm_medium == 'email':\n",
    "            channel = \"Email\"\n",
    "        elif utm_medium and any(keyword in utm_medium.lower() for keyword in ['cpc', 'ppc', 'paid', 'paidsearch']):\n",
    "            channel = \"Paid Search\"\n",
    "        elif gclid:\n",
    "            channel = \"Paid Search\"\n",
    "        elif utm_source and any(keyword in utm_source.lower() for keyword in ['google', 'yahoo']):\n",
    "            channel = \"Paid Search\"\n",
    "        elif not (utm_source or utm_campaign or utm_medium) and referrer_domain:\n",
    "            channel = \"Referral\"\n",
    "        elif not (utm_source or utm_campaign or utm_medium or referrer_domain):\n",
    "            channel = \"Direct\"\n",
    "        \n",
    "        extracted_data.append((utm_source, utm_campaign, utm_medium, gclid, channel))\n",
    "    \n",
    "    return extracted_data\n",
    "\n",
    "extracted_data = extract_query_params(logs)\n",
    "#print(extracted_data[:5])\n"
   ]
  },
  {
   "cell_type": "markdown",
   "metadata": {},
   "source": [
    "\n",
    "### 7. Store Extracted Data in SQLite Database : Stores the extracted data in an SQLite database by creating a new dimension table called `channel` and inserting the data into it.\n"
   ]
  },
  {
   "cell_type": "code",
   "execution_count": 69,
   "metadata": {},
   "outputs": [],
   "source": [
    "\n",
    "conn = sqlite3.connect(db_file_name)\n",
    "cursor = conn.cursor()\n",
    "cursor.execute('''\n",
    "    CREATE TABLE IF NOT EXISTS channel (\n",
    "        id INTEGER PRIMARY KEY AUTOINCREMENT,\n",
    "        utm_source TEXT,\n",
    "        utm_campaign TEXT,\n",
    "        utm_medium TEXT,\n",
    "        gclid TEXT,\n",
    "        channel TEXT\n",
    "    )\n",
    "''')\n",
    "cursor.execute('DELETE FROM channel')\n",
    "\n",
    "cursor.executemany('''\n",
    "    INSERT INTO channel (utm_source, utm_campaign, utm_medium, gclid, channel)\n",
    "    VALUES (?, ?, ?, ?, ?)\n",
    "''', extracted_data)\n",
    "\n",
    "conn.commit()\n",
    "conn.close()"
   ]
  },
  {
   "cell_type": "markdown",
   "metadata": {},
   "source": [
    "\n",
    "### 8. Create and Query a View: Creates a view to filter out pageviews where the referrer contains the domain \"fashion-brand.com\" and count the number of pageviews per channel. \n"
   ]
  },
  {
   "cell_type": "code",
   "execution_count": 70,
   "metadata": {},
   "outputs": [
    {
     "name": "stdout",
     "output_type": "stream",
     "text": [
      "Pageviews per Channel:\n",
      "2949756: Direct\n",
      "14436: Email\n",
      "3669952: Paid Search\n",
      "5240268: Referral\n",
      "117092: Social\n",
      "1604: Unknown\n"
     ]
    }
   ],
   "source": [
    "\n",
    "conn = sqlite3.connect(db_file_name)\n",
    "cursor = conn.cursor()\n",
    "\n",
    "cursor.execute('DROP VIEW IF EXISTS filtered_pageviews')\n",
    "\n",
    "cursor.execute('''\n",
    "    CREATE VIEW filtered_pageviews AS\n",
    "    SELECT COUNT(*) as pageview_count, c.channel FROM pageviews p, channel c \n",
    "    WHERE p.action = 'pageview' AND p.referrer_domain LIKE '%fashion-brand.com%'\n",
    "    GROUP BY c.channel\n",
    "''')\n",
    "\n",
    "cursor.execute('SELECT * FROM filtered_pageviews')\n",
    "filtered_logs = cursor.fetchall()\n",
    "\n",
    "print(\"Pageviews per Channel:\")\n",
    "for log in filtered_logs:\n",
    "    print(f\"{log[0]}: {log[1]}\")\n",
    "\n",
    "conn.close()\n"
   ]
  }
 ],
 "metadata": {
  "kernelspec": {
   "display_name": "Python 3",
   "language": "python",
   "name": "python3"
  },
  "language_info": {
   "codemirror_mode": {
    "name": "ipython",
    "version": 3
   },
   "file_extension": ".py",
   "mimetype": "text/x-python",
   "name": "python",
   "nbconvert_exporter": "python",
   "pygments_lexer": "ipython3",
   "version": "3.13.1"
  }
 },
 "nbformat": 4,
 "nbformat_minor": 2
}
